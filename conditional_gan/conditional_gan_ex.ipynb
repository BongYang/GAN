{
 "cells": [
  {
   "cell_type": "markdown",
   "metadata": {},
   "source": [
    "# Conditional GAN - MNIST"
   ]
  },
  {
   "cell_type": "code",
   "execution_count": 1,
   "metadata": {},
   "outputs": [],
   "source": [
    "import os\n",
    "import numpy as np\n",
    "import sys\n",
    "\n",
    "import torch\n",
    "import torch.nn as nn\n",
    "import torch.nn.functional as F\n",
    "import torch.optim as optim\n",
    "\n",
    "from torchvision import datasets, transforms\n",
    "from torchvision.utils import save_image\n",
    "from torch.utils.data import DataLoader"
   ]
  },
  {
   "cell_type": "code",
   "execution_count": 2,
   "metadata": {},
   "outputs": [
    {
     "data": {
      "text/plain": [
       "'1.11.0'"
      ]
     },
     "execution_count": 2,
     "metadata": {},
     "output_type": "execute_result"
    }
   ],
   "source": [
    "torch.__version__"
   ]
  },
  {
   "cell_type": "code",
   "execution_count": 3,
   "metadata": {},
   "outputs": [],
   "source": [
    "os.makedirs(\"samples\", exist_ok=True)"
   ]
  },
  {
   "cell_type": "markdown",
   "metadata": {},
   "source": [
    "## Hyper Parameters"
   ]
  },
  {
   "cell_type": "code",
   "execution_count": 4,
   "metadata": {},
   "outputs": [],
   "source": [
    "epoch =0            # \"epoch to start training from\"\n",
    "n_epochs = 100      # \"number of epochs of training\"\n",
    "batch_size = 64     # \"size of the batches\"\n",
    "lr = 0.0002         # \"learning rate\"\n",
    "b1 = 0.5            # \"Adam: decay of first order momentum of gradient\"\n",
    "b2 = 0.999          # \"Adam: decay of first order momentum of gradient\"\n",
    "n_cpu = 8           # \"number of cpu threads to use during batch generation\"\n",
    "img_height = 28     # \"size of image height\"\n",
    "img_width = 28      # \"size of image width\"\n",
    "channels = 1        # \"number of image channels\"\n",
    "z_dim = 100         # \"dim of latent z\"\n",
    "n_classes = 10      # \"number of classes\"\n",
    "sample_interval = 1 # \"interval between sampling of images from generators\""
   ]
  },
  {
   "cell_type": "markdown",
   "metadata": {},
   "source": [
    "## Train Setting"
   ]
  },
  {
   "cell_type": "code",
   "execution_count": 5,
   "metadata": {},
   "outputs": [],
   "source": [
    "device = torch.device('cuda:1' if torch.cuda.is_available() else 'cpu')\n",
    "\n",
    "# imgage size\n",
    "img_shape = (channels, img_width, img_height)\n",
    "img_dim = img_width * img_height \n",
    "\n",
    "# MNIST Dataset\n",
    "transform = transforms.Compose([\n",
    "    transforms.ToTensor(),\n",
    "    transforms.Normalize([0.5], [0.5])\n",
    "])\n",
    "\n",
    "train_dataset = datasets.MNIST(root='../mnist_data/', train=True, transform=transform, download=True)\n",
    "# test_dataset = datasets.MNIST(root='./mnist_data/', train=False, transform=transform, download=False)\n",
    "\n",
    "# Data Loader\n",
    "train_loader = DataLoader(\n",
    "    dataset=train_dataset, \n",
    "    batch_size=batch_size, \n",
    "    num_workers=n_cpu,\n",
    "    shuffle=True\n",
    ")"
   ]
  },
  {
   "cell_type": "markdown",
   "metadata": {},
   "source": [
    "## Generator"
   ]
  },
  {
   "cell_type": "code",
   "execution_count": 6,
   "metadata": {},
   "outputs": [],
   "source": [
    "class Generator(nn.Module):\n",
    "    def __init__(self, input_dim, output_dim, n_classes):\n",
    "        super(Generator, self).__init__()\n",
    "\n",
    "        self.label_emb = nn.Embedding(n_classes, n_classes)\n",
    "        self.output_dim = output_dim\n",
    "        \n",
    "        def block(in_feat, out_feat, normalize=True):\n",
    "            layers = [nn.Linear(in_feat, out_feat)]\n",
    "            if normalize:\n",
    "                layers.append(nn.BatchNorm1d(out_feat, 0.8))\n",
    "            layers.append(nn.LeakyReLU(0.2, inplace=True))\n",
    "            return layers\n",
    "\n",
    "        self.model = nn.Sequential(\n",
    "            *block(input_dim + n_classes, 128, normalize=False),\n",
    "            *block(128, 256),\n",
    "            *block(256, 512),\n",
    "            *block(512, 1024),\n",
    "            nn.Linear(1024, output_dim),\n",
    "            nn.Tanh()\n",
    "        )\n",
    "\n",
    "    def forward(self, noise, labels):\n",
    "        # Concatenate label embedding and image to produce input\n",
    "        gen_input = torch.cat((self.label_emb(labels), noise), -1)\n",
    "        img = self.model(gen_input)\n",
    "        img = img.view(img.size(0), self.output_dim)\n",
    "        return img"
   ]
  },
  {
   "cell_type": "markdown",
   "metadata": {},
   "source": [
    "## Discriminator"
   ]
  },
  {
   "cell_type": "code",
   "execution_count": 7,
   "metadata": {},
   "outputs": [],
   "source": [
    "class Discriminator(nn.Module):\n",
    "    def __init__(self, input_dim, n_classes):\n",
    "        super(Discriminator, self).__init__()\n",
    "\n",
    "        self.label_embedding = nn.Embedding(n_classes, n_classes)\n",
    "\n",
    "        self.model = nn.Sequential(\n",
    "            nn.Linear(n_classes + int(np.prod(input_dim)), 512),\n",
    "            nn.LeakyReLU(0.2, inplace=True),\n",
    "            nn.Linear(512, 512),\n",
    "            nn.Dropout(0.4),\n",
    "            nn.LeakyReLU(0.2, inplace=True),\n",
    "            nn.Linear(512, 512),\n",
    "            nn.Dropout(0.4),\n",
    "            nn.LeakyReLU(0.2, inplace=True),\n",
    "            nn.Linear(512, 1),\n",
    "        )\n",
    "\n",
    "    def forward(self, img, labels):\n",
    "        # Concatenate label embedding and image to produce input\n",
    "        d_in = torch.cat((img.view(img.size(0), -1), self.label_embedding(labels)), -1)\n",
    "        validity = self.model(d_in)\n",
    "        return validity"
   ]
  },
  {
   "cell_type": "code",
   "execution_count": 8,
   "metadata": {},
   "outputs": [],
   "source": [
    "# build network\n",
    "generator = Generator(input_dim=z_dim, output_dim=img_dim, n_classes=n_classes).to(device)\n",
    "discriminator = Discriminator(img_dim, n_classes=n_classes).to(device)\n",
    "    \n",
    "# loss\n",
    "adversarial_loss = nn.BCEWithLogitsLoss().to(device)\n",
    "# criterion = nn.BCELoss().to(device)\n",
    "    \n",
    "# optimizer\n",
    "G_optimizer = optim.Adam(generator.parameters(), lr=lr, betas=(b1, b2))\n",
    "D_optimizer = optim.Adam(discriminator.parameters(), lr=lr, betas=(b1, b2))\n"
   ]
  },
  {
   "cell_type": "markdown",
   "metadata": {},
   "source": [
    "## Generator Loss"
   ]
  },
  {
   "cell_type": "markdown",
   "metadata": {},
   "source": [
    "#### generator loss\n",
    "1. Generate Random noise z\n",
    "\n",
    "2. Generator makes fake image using noise z\n",
    "\n",
    "3. Discriminator evaluate whether this image is fake or real\n",
    "\n",
    "4. Calculate generator loss"
   ]
  },
  {
   "cell_type": "code",
   "execution_count": 9,
   "metadata": {},
   "outputs": [],
   "source": [
    "def generator_loss(generator):\n",
    "    z = torch.normal(mean=torch.zeros((batch_size, z_dim)), std=torch.ones((batch_size, z_dim))).to(device)\n",
    "    gen_labels = torch.randint(0, n_classes, (batch_size,)).to(device)\n",
    "    valid = torch.ones(batch_size, 1).to(device)\n",
    "    \n",
    "    # Generator loss\n",
    "    fake_G = generator(z, gen_labels)\n",
    "    pred_fake = discriminator(fake_G, gen_labels)\n",
    "    G_loss = adversarial_loss(pred_fake, valid)\n",
    "    \n",
    "    return G_loss"
   ]
  },
  {
   "cell_type": "markdown",
   "metadata": {},
   "source": [
    "## Discriminator Loss"
   ]
  },
  {
   "cell_type": "markdown",
   "metadata": {},
   "source": [
    "#### real Loss\n",
    "1. Discriminator evaluate whether real image is fake or real\n",
    "\n",
    "2. Calculate fake loss\n",
    "\n",
    "\n",
    "#### fake Loss\n",
    "1. Generator makes fake image using Random noise z\n",
    "\n",
    "2. Discriminator evaluate whether this fake image is fake or real\n",
    "\n",
    "3. Calculate fake loss"
   ]
  },
  {
   "cell_type": "code",
   "execution_count": 10,
   "metadata": {},
   "outputs": [],
   "source": [
    "def discriminator_loss(discriminator, real_imgs, labels):\n",
    "    valid = torch.ones(real_imgs.size(0), 1).to(device)\n",
    "    fake = torch.zeros(real_imgs.size(0), 1).to(device)\n",
    "    \n",
    "    # real Loss\n",
    "    pred_real = discriminator(real_imgs, labels)\n",
    "    real_loss = adversarial_loss(pred_real, valid)\n",
    "\n",
    "    # fake Loss\n",
    "    z = torch.normal(mean=torch.zeros((real_imgs.size(0), z_dim)), std=torch.ones((real_imgs.size(0), z_dim))).to(device)\n",
    "    gen_labels = torch.randint(0, n_classes, (real_imgs.size(0),)).to(device)\n",
    "    \n",
    "    fake_G = generator(z, gen_labels)\n",
    "            \n",
    "    pred_fake = discriminator(fake_G, gen_labels)\n",
    "    fake_loss = adversarial_loss(pred_fake, fake)\n",
    "    \n",
    "    return  0.5 * (real_loss + fake_loss)"
   ]
  },
  {
   "cell_type": "markdown",
   "metadata": {},
   "source": [
    "## Train"
   ]
  },
  {
   "cell_type": "markdown",
   "metadata": {},
   "source": [
    "#### Training Process\n",
    "1. Train Generator\n",
    "2. Train Discriminator"
   ]
  },
  {
   "cell_type": "code",
   "execution_count": 11,
   "metadata": {},
   "outputs": [
    {
     "name": "stdout",
     "output_type": "stream",
     "text": [
      "[Epoch 0/100] [Batch 0/938] [D loss: 0.675402] [G loss: 0.682249]\n",
      "[Epoch 0/100] [Batch 100/938] [D loss: 0.480887] [G loss: 1.558548]\n",
      "[Epoch 0/100] [Batch 200/938] [D loss: 0.458802] [G loss: 1.263674]\n",
      "[Epoch 0/100] [Batch 300/938] [D loss: 0.435107] [G loss: 1.557426]\n",
      "[Epoch 0/100] [Batch 400/938] [D loss: 0.751226] [G loss: 0.403722]\n",
      "[Epoch 0/100] [Batch 500/938] [D loss: 1.024132] [G loss: 4.193316]\n",
      "[Epoch 0/100] [Batch 600/938] [D loss: 0.456666] [G loss: 1.345450]\n",
      "[Epoch 0/100] [Batch 700/938] [D loss: 0.271079] [G loss: 2.238102]\n",
      "[Epoch 0/100] [Batch 800/938] [D loss: 0.385291] [G loss: 2.346975]\n",
      "[Epoch 0/100] [Batch 900/938] [D loss: 0.330734] [G loss: 1.842307]\n",
      "[Epoch 1/100] [Batch 0/938] [D loss: 0.296868] [G loss: 2.270540]\n",
      "[Epoch 1/100] [Batch 100/938] [D loss: 0.894483] [G loss: 0.484347]\n",
      "[Epoch 1/100] [Batch 200/938] [D loss: 0.286777] [G loss: 1.792779]\n",
      "[Epoch 1/100] [Batch 300/938] [D loss: 0.262854] [G loss: 2.218455]\n",
      "[Epoch 1/100] [Batch 400/938] [D loss: 0.290432] [G loss: 1.992847]\n",
      "[Epoch 1/100] [Batch 500/938] [D loss: 0.314485] [G loss: 1.777029]\n",
      "[Epoch 1/100] [Batch 600/938] [D loss: 0.233190] [G loss: 1.929304]\n",
      "[Epoch 1/100] [Batch 700/938] [D loss: 0.280850] [G loss: 1.736170]\n",
      "[Epoch 1/100] [Batch 800/938] [D loss: 0.273827] [G loss: 2.013288]\n",
      "[Epoch 1/100] [Batch 900/938] [D loss: 0.336171] [G loss: 1.891748]\n",
      "[Epoch 2/100] [Batch 0/938] [D loss: 0.265748] [G loss: 1.607029]\n",
      "[Epoch 2/100] [Batch 100/938] [D loss: 0.309203] [G loss: 1.816115]\n"
     ]
    },
    {
     "ename": "KeyboardInterrupt",
     "evalue": "",
     "output_type": "error",
     "traceback": [
      "\u001b[0;31m---------------------------------------------------------------------------\u001b[0m",
      "\u001b[0;31mKeyboardInterrupt\u001b[0m                         Traceback (most recent call last)",
      "\u001b[1;32m/NasData/home/ljh/knuair/GAN/conditional_gan/conditional_gan.ipynb Cell 22'\u001b[0m in \u001b[0;36m<cell line: 1>\u001b[0;34m()\u001b[0m\n\u001b[1;32m      <a href='vscode-notebook-cell://ssh-remote%2B7b22686f73744e616d65223a224c65654a756879656f6e6732227d/NasData/home/ljh/knuair/GAN/conditional_gan/conditional_gan.ipynb#ch0000021vscode-remote?line=7'>8</a>\u001b[0m \u001b[39m# ------------------\u001b[39;00m\n\u001b[1;32m      <a href='vscode-notebook-cell://ssh-remote%2B7b22686f73744e616d65223a224c65654a756879656f6e6732227d/NasData/home/ljh/knuair/GAN/conditional_gan/conditional_gan.ipynb#ch0000021vscode-remote?line=8'>9</a>\u001b[0m \u001b[39m#  Train Generators\u001b[39;00m\n\u001b[1;32m     <a href='vscode-notebook-cell://ssh-remote%2B7b22686f73744e616d65223a224c65654a756879656f6e6732227d/NasData/home/ljh/knuair/GAN/conditional_gan/conditional_gan.ipynb#ch0000021vscode-remote?line=9'>10</a>\u001b[0m \u001b[39m# ------------------\u001b[39;00m\n\u001b[1;32m     <a href='vscode-notebook-cell://ssh-remote%2B7b22686f73744e616d65223a224c65654a756879656f6e6732227d/NasData/home/ljh/knuair/GAN/conditional_gan/conditional_gan.ipynb#ch0000021vscode-remote?line=10'>11</a>\u001b[0m G_optimizer\u001b[39m.\u001b[39mzero_grad()\n\u001b[0;32m---> <a href='vscode-notebook-cell://ssh-remote%2B7b22686f73744e616d65223a224c65654a756879656f6e6732227d/NasData/home/ljh/knuair/GAN/conditional_gan/conditional_gan.ipynb#ch0000021vscode-remote?line=12'>13</a>\u001b[0m G_loss \u001b[39m=\u001b[39m generator_loss(generator) \n\u001b[1;32m     <a href='vscode-notebook-cell://ssh-remote%2B7b22686f73744e616d65223a224c65654a756879656f6e6732227d/NasData/home/ljh/knuair/GAN/conditional_gan/conditional_gan.ipynb#ch0000021vscode-remote?line=13'>14</a>\u001b[0m G_loss\u001b[39m.\u001b[39mbackward()\n\u001b[1;32m     <a href='vscode-notebook-cell://ssh-remote%2B7b22686f73744e616d65223a224c65654a756879656f6e6732227d/NasData/home/ljh/knuair/GAN/conditional_gan/conditional_gan.ipynb#ch0000021vscode-remote?line=14'>15</a>\u001b[0m G_optimizer\u001b[39m.\u001b[39mstep()\n",
      "\u001b[1;32m/NasData/home/ljh/knuair/GAN/conditional_gan/conditional_gan.ipynb Cell 16'\u001b[0m in \u001b[0;36mgenerator_loss\u001b[0;34m(generator)\u001b[0m\n\u001b[1;32m      <a href='vscode-notebook-cell://ssh-remote%2B7b22686f73744e616d65223a224c65654a756879656f6e6732227d/NasData/home/ljh/knuair/GAN/conditional_gan/conditional_gan.ipynb#ch0000015vscode-remote?line=0'>1</a>\u001b[0m \u001b[39mdef\u001b[39;00m \u001b[39mgenerator_loss\u001b[39m(generator):\n\u001b[1;32m      <a href='vscode-notebook-cell://ssh-remote%2B7b22686f73744e616d65223a224c65654a756879656f6e6732227d/NasData/home/ljh/knuair/GAN/conditional_gan/conditional_gan.ipynb#ch0000015vscode-remote?line=1'>2</a>\u001b[0m     z \u001b[39m=\u001b[39m torch\u001b[39m.\u001b[39mnormal(mean\u001b[39m=\u001b[39mtorch\u001b[39m.\u001b[39mzeros((batch_size, z_dim)), std\u001b[39m=\u001b[39mtorch\u001b[39m.\u001b[39mones((batch_size, z_dim)))\u001b[39m.\u001b[39mto(device)\n\u001b[0;32m----> <a href='vscode-notebook-cell://ssh-remote%2B7b22686f73744e616d65223a224c65654a756879656f6e6732227d/NasData/home/ljh/knuair/GAN/conditional_gan/conditional_gan.ipynb#ch0000015vscode-remote?line=2'>3</a>\u001b[0m     gen_labels \u001b[39m=\u001b[39m torch\u001b[39m.\u001b[39;49mrandint(\u001b[39m0\u001b[39;49m, n_classes, (batch_size,))\u001b[39m.\u001b[39;49mto(device)\n\u001b[1;32m      <a href='vscode-notebook-cell://ssh-remote%2B7b22686f73744e616d65223a224c65654a756879656f6e6732227d/NasData/home/ljh/knuair/GAN/conditional_gan/conditional_gan.ipynb#ch0000015vscode-remote?line=3'>4</a>\u001b[0m     valid \u001b[39m=\u001b[39m torch\u001b[39m.\u001b[39mones(batch_size, \u001b[39m1\u001b[39m)\u001b[39m.\u001b[39mto(device)\n\u001b[1;32m      <a href='vscode-notebook-cell://ssh-remote%2B7b22686f73744e616d65223a224c65654a756879656f6e6732227d/NasData/home/ljh/knuair/GAN/conditional_gan/conditional_gan.ipynb#ch0000015vscode-remote?line=5'>6</a>\u001b[0m     \u001b[39m# Generator loss\u001b[39;00m\n",
      "\u001b[0;31mKeyboardInterrupt\u001b[0m: "
     ]
    }
   ],
   "source": [
    "for epoch in range(epoch, n_epochs):\n",
    "    for i, (imgs, labels) in enumerate(train_loader):\n",
    "            \n",
    "        # Configure input\n",
    "        real_imgs = imgs.to(device)\n",
    "        labels = labels.to(device)\n",
    "\n",
    "        # ------------------\n",
    "        #  Train Generators\n",
    "        # ------------------\n",
    "        G_optimizer.zero_grad()\n",
    "        \n",
    "        G_loss = generator_loss(generator) \n",
    "        G_loss.backward()\n",
    "        G_optimizer.step()\n",
    "    \n",
    "        # ---------------------\n",
    "        #  Train Discriminator\n",
    "        # ---------------------\n",
    "        D_optimizer.zero_grad()\n",
    "\n",
    "        D_loss = discriminator_loss(discriminator, real_imgs, labels)\n",
    "        D_loss.backward()\n",
    "        D_optimizer.step()\n",
    "        \n",
    "        if i % 100 == 0:\n",
    "            sys.stdout.write(\n",
    "                \"[Epoch %d/%d] [Batch %d/%d] [D loss: %f] [G loss: %f]\\n\"\n",
    "                % (epoch, n_epochs, i, len(train_loader), D_loss.item(), G_loss.item())\n",
    "            )\n",
    "            \n",
    "            \n",
    "    # If at sample interval save image\n",
    "    if epoch % sample_interval == 0:\n",
    "        with torch.no_grad():\n",
    "            test_z = torch.randn(100, z_dim).to(device)\n",
    "            test_labels = torch.arange(n_classes).repeat_interleave(n_classes).to(device)\n",
    "            \n",
    "            generated = generator(test_z, test_labels)\n",
    "            save_image(generated.view(generated.size(0), 1, 28, 28), './samples/sample_' + str(epoch) + '.png', nrow=10)"
   ]
  },
  {
   "cell_type": "markdown",
   "metadata": {},
   "source": [
    "### Evaluate Generator's fake Image"
   ]
  },
  {
   "cell_type": "code",
   "execution_count": 22,
   "metadata": {},
   "outputs": [],
   "source": [
    "with torch.no_grad():\n",
    "    test_z = torch.randn(100, z_dim).to(device)\n",
    "    test_labels = torch.arange(n_classes).repeat_interleave(n_classes).to(device)\n",
    "    generated = generator(test_z, test_labels)\n",
    "    \n",
    "    \n",
    "    save_image(generated.view(generated.size(0), 1, 28, 28), './samples/sample.png', nrow=10)"
   ]
  },
  {
   "cell_type": "code",
   "execution_count": 23,
   "metadata": {},
   "outputs": [
    {
     "data": {
      "image/png": "[encoded data removed]",
      "text/plain": [
       "<PIL.PngImagePlugin.PngImageFile image mode=RGB size=302x302 at 0x7FA34C778BB0>"
      ]
     },
     "execution_count": 23,
     "metadata": {},
     "output_type": "execute_result"
    }
   ],
   "source": [
    "from PIL import Image\n",
    "\n",
    "Image.open('./samples/sample.png')"
   ]
  },
  {
   "cell_type": "code",
   "execution_count": null,
   "metadata": {},
   "outputs": [],
   "source": []
  }
 ],
 "metadata": {
  "interpreter": {
   "hash": "8b7cf6e80e623f85c56d216babce9b5de4444425dbe69cd039cfb78c0f4a6265"
  },
  "kernelspec": {
   "display_name": "Python 3.8.13 ('torch_jw')",
   "language": "python",
   "name": "python3"
  },
  "language_info": {
   "codemirror_mode": {
    "name": "ipython",
    "version": 3
   },
   "file_extension": ".py",
   "mimetype": "text/x-python",
   "name": "python",
   "nbconvert_exporter": "python",
   "pygments_lexer": "ipython3",
   "version": "3.8.13"
  },
  "orig_nbformat": 4
 },
 "nbformat": 4,
 "nbformat_minor": 2
}
