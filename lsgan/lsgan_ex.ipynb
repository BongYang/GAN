{
 "cells": [
  {
   "cell_type": "markdown",
   "metadata": {},
   "source": [
    "# Least Squares GAN - MNIST"
   ]
  },
  {
   "cell_type": "code",
   "execution_count": 1,
   "metadata": {},
   "outputs": [],
   "source": [
    "import os\n",
    "import sys\n",
    "\n",
    "import torch\n",
    "import torch.nn as nn\n",
    "import torch.optim as optim\n",
    "from torchvision import datasets, transforms\n",
    "from torch.autograd import Variable\n",
    "from torchvision.utils import save_image\n",
    "from torch.utils.data import DataLoader"
   ]
  },
  {
   "cell_type": "code",
   "execution_count": 2,
   "metadata": {},
   "outputs": [
    {
     "data": {
      "text/plain": [
       "'1.11.0'"
      ]
     },
     "execution_count": 2,
     "metadata": {},
     "output_type": "execute_result"
    }
   ],
   "source": [
    "torch.__version__"
   ]
  },
  {
   "cell_type": "code",
   "execution_count": 3,
   "metadata": {},
   "outputs": [],
   "source": [
    "os.makedirs(\"samples\", exist_ok=True)"
   ]
  },
  {
   "cell_type": "markdown",
   "metadata": {},
   "source": [
    "## Hyper Parameters"
   ]
  },
  {
   "cell_type": "code",
   "execution_count": 4,
   "metadata": {},
   "outputs": [],
   "source": [
    "epoch =0            # \"epoch to start training from\"\n",
    "n_epochs = 100      # \"number of epochs of training\"\n",
    "batch_size = 64     # \"size of the batches\"\n",
    "lr = 0.0002         # \"adam: learning rate\"\n",
    "b1 = 0.5            # \"adam: decay of first order momentum of gradient\"\n",
    "b2 = 0.999          # \"adam: decay of first order momentum of gradient\"\n",
    "n_cpu = 8           # \"number of cpu threads to use during batch generation\"\n",
    "img_height = 32     # \"size of image height\"\n",
    "img_width = 32      # \"size of image width\"\n",
    "channels = 1        # \"number of image channels\"\n",
    "z_dim = 100         # \"dim of latent z\"\n",
    "sample_interval = 1 # \"interval between sampling of images from generators\""
   ]
  },
  {
   "cell_type": "markdown",
   "metadata": {},
   "source": [
    "## Train Setting"
   ]
  },
  {
   "cell_type": "code",
   "execution_count": 5,
   "metadata": {},
   "outputs": [],
   "source": [
    "device = torch.device('cuda:1' if torch.cuda.is_available() else 'cpu')\n",
    "\n",
    "# imgage size\n",
    "img_shape = (channels, img_width, img_height)\n",
    "img_dim = img_width * img_height \n",
    "\n",
    "# MNIST Dataset\n",
    "transform = transforms.Compose([\n",
    "    transforms.Resize(img_width),\n",
    "    transforms.ToTensor(),\n",
    "    transforms.Normalize([0.5], [0.5])\n",
    "])\n",
    "\n",
    "train_dataset = datasets.MNIST(root='../mnist_data/', train=True, transform=transform, download=True)\n",
    "# test_dataset = datasets.MNIST(root='./mnist_data/', train=False, transform=transform, download=False)\n",
    "\n",
    "# Data Loader\n",
    "train_loader = DataLoader(\n",
    "    dataset=train_dataset, \n",
    "    batch_size=batch_size, \n",
    "    num_workers=n_cpu,\n",
    "    shuffle=True\n",
    ")"
   ]
  },
  {
   "cell_type": "markdown",
   "metadata": {},
   "source": [
    "## Generator"
   ]
  },
  {
   "cell_type": "code",
   "execution_count": 6,
   "metadata": {},
   "outputs": [],
   "source": [
    "class Generator(nn.Module):\n",
    "    def __init__(self, input_dim, img_size, channels):\n",
    "        super(Generator, self).__init__()\n",
    "\n",
    "        self.init_size = img_size // 4\n",
    "        self.l1 = nn.Sequential(nn.Linear(input_dim, 128 * self.init_size ** 2))\n",
    "\n",
    "        self.conv_blocks = nn.Sequential(\n",
    "            nn.BatchNorm2d(128),\n",
    "            nn.Upsample(scale_factor=2),\n",
    "            nn.Conv2d(128, 128, 3, stride=1, padding=1),\n",
    "            nn.BatchNorm2d(128, 0.8),\n",
    "            nn.LeakyReLU(0.2, inplace=True),\n",
    "            nn.Upsample(scale_factor=2),\n",
    "            nn.Conv2d(128, 64, 3, stride=1, padding=1),\n",
    "            nn.BatchNorm2d(64, 0.8),\n",
    "            nn.LeakyReLU(0.2, inplace=True),\n",
    "            nn.Conv2d(64, channels, 3, stride=1, padding=1),\n",
    "            nn.Tanh(),\n",
    "        )\n",
    "\n",
    "    def forward(self, z):\n",
    "        out = self.l1(z)\n",
    "        out = out.view(out.shape[0], 128, self.init_size, self.init_size)\n",
    "        img = self.conv_blocks(out)\n",
    "        return img"
   ]
  },
  {
   "cell_type": "markdown",
   "metadata": {},
   "source": [
    "## Discriminator"
   ]
  },
  {
   "cell_type": "code",
   "execution_count": 7,
   "metadata": {},
   "outputs": [],
   "source": [
    "class Discriminator(nn.Module):\n",
    "    def __init__(self, img_size, channels):\n",
    "        super(Discriminator, self).__init__()\n",
    "\n",
    "        def discriminator_block(in_filters, out_filters, bn=True):\n",
    "            block = [nn.Conv2d(in_filters, out_filters, 3, 2, 1), nn.LeakyReLU(0.2, inplace=True), nn.Dropout2d(0.25)]\n",
    "            if bn:\n",
    "                block.append(nn.BatchNorm2d(out_filters, 0.8))\n",
    "            return block\n",
    "\n",
    "        ds_size = img_size // 2 ** 4\n",
    "        self.model = nn.Sequential(\n",
    "            *discriminator_block(channels, 16, bn=False),\n",
    "            *discriminator_block(16, 32),\n",
    "            *discriminator_block(32, 64),\n",
    "            *discriminator_block(64, 128),\n",
    "            nn.Flatten(),\n",
    "            nn.Linear(128 * ds_size ** 2, 1)\n",
    "        )\n",
    "\n",
    "    def forward(self, img):\n",
    "        return self.model(img)"
   ]
  },
  {
   "cell_type": "code",
   "execution_count": 8,
   "metadata": {},
   "outputs": [],
   "source": [
    "def weights_init_normal(m):\n",
    "    classname = m.__class__.__name__\n",
    "    if classname.find(\"Conv\") != -1:\n",
    "        nn.init.normal_(m.weight.data, 0.0, 0.02)\n",
    "    elif classname.find(\"BatchNorm2d\") != -1:\n",
    "        nn.init.normal_(m.weight.data, 1.0, 0.02)\n",
    "        nn.init.constant_(m.bias.data, 0.0)"
   ]
  },
  {
   "cell_type": "code",
   "execution_count": 9,
   "metadata": {},
   "outputs": [],
   "source": [
    "# build network\n",
    "generator = Generator(input_dim=z_dim, img_size=img_width, channels=channels).to(device)\n",
    "discriminator = Discriminator(img_size=img_width, channels=channels).to(device)\n",
    "\n",
    "# Initialize weights\n",
    "generator.apply(weights_init_normal)\n",
    "discriminator.apply(weights_init_normal)\n",
    "\n",
    "# least squares loss\n",
    "adversarial_loss = nn.MSELoss().to(device)\n",
    "    \n",
    "# optimizer\n",
    "G_optimizer = optim.Adam(generator.parameters(), lr=lr, betas=(b1, b2))\n",
    "D_optimizer = optim.Adam(discriminator.parameters(), lr=lr, betas=(b1, b2))"
   ]
  },
  {
   "cell_type": "markdown",
   "metadata": {},
   "source": [
    "## Generator Loss"
   ]
  },
  {
   "cell_type": "markdown",
   "metadata": {},
   "source": [
    "#### generator loss\n",
    "1. Generate Random noise z\n",
    "\n",
    "2. Generator makes fake image using noise z\n",
    "\n",
    "3. Discriminator evaluate whether this image is fake or real\n",
    "\n",
    "4. Calculate generator loss"
   ]
  },
  {
   "cell_type": "code",
   "execution_count": 10,
   "metadata": {},
   "outputs": [],
   "source": [
    "def generator_loss(generator):\n",
    "    z = torch.normal(mean=torch.zeros((batch_size, z_dim)), std=torch.ones((batch_size, z_dim))).to(device)\n",
    "    valid = torch.ones(batch_size, 1).to(device)\n",
    "    \n",
    "    # Generator loss\n",
    "    fake_G = generator(z)\n",
    "    pred_fake = discriminator(fake_G)\n",
    "    G_loss = adversarial_loss(pred_fake, valid)\n",
    "    \n",
    "    return G_loss"
   ]
  },
  {
   "cell_type": "markdown",
   "metadata": {},
   "source": [
    "## Discriminator Loss"
   ]
  },
  {
   "cell_type": "markdown",
   "metadata": {},
   "source": [
    "#### real Loss\n",
    "1. Discriminator evaluate whether real image is fake or real\n",
    "\n",
    "2. Calculate fake loss\n",
    "\n",
    "\n",
    "#### fake Loss\n",
    "1. Generator makes fake image using Random noise z\n",
    "\n",
    "2. Discriminator evaluate whether this fake image is fake or real\n",
    "\n",
    "3. Calculate fake loss"
   ]
  },
  {
   "cell_type": "code",
   "execution_count": 11,
   "metadata": {},
   "outputs": [],
   "source": [
    "def discriminator_loss(discriminator, real_imgs):\n",
    "    valid = torch.ones(real_imgs.size(0), 1).to(device)\n",
    "    fake = torch.zeros(real_imgs.size(0), 1).to(device)\n",
    "    \n",
    "    # real Loss\n",
    "    pred_real = discriminator(real_imgs)\n",
    "    D_real_loss = adversarial_loss(pred_real, valid)\n",
    "\n",
    "    # fake Loss\n",
    "    z = torch.normal(mean=torch.zeros((real_imgs.size(0), z_dim)), std=torch.ones((real_imgs.size(0), z_dim))).to(device)\n",
    "    \n",
    "    fake_G = generator(z)\n",
    "    pred_fake = discriminator(fake_G)\n",
    "    D_fake_loss = adversarial_loss(pred_fake, fake)\n",
    "    \n",
    "    return  0.5 * (D_real_loss + D_fake_loss)"
   ]
  },
  {
   "cell_type": "markdown",
   "metadata": {},
   "source": [
    "## Train"
   ]
  },
  {
   "cell_type": "markdown",
   "metadata": {},
   "source": [
    "#### Training Process\n",
    "1. Train Generator\n",
    "2. Train Discriminator"
   ]
  },
  {
   "cell_type": "code",
   "execution_count": 12,
   "metadata": {},
   "outputs": [
    {
     "name": "stdout",
     "output_type": "stream",
     "text": [
      "[Epoch 0/100] [Batch 0/938] [D loss: 0.474060] [G loss: 0.947603]\n",
      "[Epoch 0/100] [Batch 100/938] [D loss: 0.243079] [G loss: 0.265633]\n",
      "[Epoch 0/100] [Batch 200/938] [D loss: 0.249257] [G loss: 0.271359]\n",
      "[Epoch 0/100] [Batch 300/938] [D loss: 0.245875] [G loss: 0.285747]\n",
      "[Epoch 0/100] [Batch 400/938] [D loss: 0.232349] [G loss: 0.265113]\n",
      "[Epoch 0/100] [Batch 500/938] [D loss: 0.264680] [G loss: 0.242994]\n",
      "[Epoch 0/100] [Batch 600/938] [D loss: 0.268655] [G loss: 0.238125]\n",
      "[Epoch 0/100] [Batch 700/938] [D loss: 0.255001] [G loss: 0.244601]\n",
      "[Epoch 0/100] [Batch 800/938] [D loss: 0.238501] [G loss: 0.280387]\n",
      "[Epoch 0/100] [Batch 900/938] [D loss: 0.255011] [G loss: 0.268494]\n",
      "[Epoch 1/100] [Batch 0/938] [D loss: 0.265817] [G loss: 0.274662]\n",
      "[Epoch 1/100] [Batch 100/938] [D loss: 0.254927] [G loss: 0.260254]\n",
      "[Epoch 1/100] [Batch 200/938] [D loss: 0.253696] [G loss: 0.256585]\n",
      "[Epoch 1/100] [Batch 300/938] [D loss: 0.248687] [G loss: 0.253463]\n"
     ]
    },
    {
     "ename": "KeyboardInterrupt",
     "evalue": "",
     "output_type": "error",
     "traceback": [
      "\u001b[0;31m---------------------------------------------------------------------------\u001b[0m",
      "\u001b[0;31mKeyboardInterrupt\u001b[0m                         Traceback (most recent call last)",
      "\u001b[1;32m/NasData/home/ljh/knuair/GAN/lsgan/lsgan.ipynb Cell 23'\u001b[0m in \u001b[0;36m<cell line: 1>\u001b[0;34m()\u001b[0m\n\u001b[1;32m     <a href='vscode-notebook-cell://ssh-remote%2B7b22686f73744e616d65223a224c65654a756879656f6e67227d/NasData/home/ljh/knuair/GAN/lsgan/lsgan.ipynb#ch0000022vscode-remote?line=18'>19</a>\u001b[0m D_optimizer\u001b[39m.\u001b[39mzero_grad()\n\u001b[1;32m     <a href='vscode-notebook-cell://ssh-remote%2B7b22686f73744e616d65223a224c65654a756879656f6e67227d/NasData/home/ljh/knuair/GAN/lsgan/lsgan.ipynb#ch0000022vscode-remote?line=20'>21</a>\u001b[0m D_loss \u001b[39m=\u001b[39m discriminator_loss(discriminator, real_imgs)\n\u001b[0;32m---> <a href='vscode-notebook-cell://ssh-remote%2B7b22686f73744e616d65223a224c65654a756879656f6e67227d/NasData/home/ljh/knuair/GAN/lsgan/lsgan.ipynb#ch0000022vscode-remote?line=21'>22</a>\u001b[0m D_loss\u001b[39m.\u001b[39;49mbackward()\n\u001b[1;32m     <a href='vscode-notebook-cell://ssh-remote%2B7b22686f73744e616d65223a224c65654a756879656f6e67227d/NasData/home/ljh/knuair/GAN/lsgan/lsgan.ipynb#ch0000022vscode-remote?line=22'>23</a>\u001b[0m D_optimizer\u001b[39m.\u001b[39mstep()\n\u001b[1;32m     <a href='vscode-notebook-cell://ssh-remote%2B7b22686f73744e616d65223a224c65654a756879656f6e67227d/NasData/home/ljh/knuair/GAN/lsgan/lsgan.ipynb#ch0000022vscode-remote?line=24'>25</a>\u001b[0m \u001b[39mif\u001b[39;00m i \u001b[39m%\u001b[39m \u001b[39m100\u001b[39m \u001b[39m==\u001b[39m \u001b[39m0\u001b[39m:\n",
      "File \u001b[0;32m~/.pyenv/versions/miniconda3-4.7.12/envs/torch_jw/lib/python3.8/site-packages/torch/_tensor.py:363\u001b[0m, in \u001b[0;36mTensor.backward\u001b[0;34m(self, gradient, retain_graph, create_graph, inputs)\u001b[0m\n\u001b[1;32m    <a href='file:///NasData/home/ljh/.pyenv/versions/miniconda3-4.7.12/envs/torch_jw/lib/python3.8/site-packages/torch/_tensor.py?line=353'>354</a>\u001b[0m \u001b[39mif\u001b[39;00m has_torch_function_unary(\u001b[39mself\u001b[39m):\n\u001b[1;32m    <a href='file:///NasData/home/ljh/.pyenv/versions/miniconda3-4.7.12/envs/torch_jw/lib/python3.8/site-packages/torch/_tensor.py?line=354'>355</a>\u001b[0m     \u001b[39mreturn\u001b[39;00m handle_torch_function(\n\u001b[1;32m    <a href='file:///NasData/home/ljh/.pyenv/versions/miniconda3-4.7.12/envs/torch_jw/lib/python3.8/site-packages/torch/_tensor.py?line=355'>356</a>\u001b[0m         Tensor\u001b[39m.\u001b[39mbackward,\n\u001b[1;32m    <a href='file:///NasData/home/ljh/.pyenv/versions/miniconda3-4.7.12/envs/torch_jw/lib/python3.8/site-packages/torch/_tensor.py?line=356'>357</a>\u001b[0m         (\u001b[39mself\u001b[39m,),\n\u001b[0;32m   (...)\u001b[0m\n\u001b[1;32m    <a href='file:///NasData/home/ljh/.pyenv/versions/miniconda3-4.7.12/envs/torch_jw/lib/python3.8/site-packages/torch/_tensor.py?line=360'>361</a>\u001b[0m         create_graph\u001b[39m=\u001b[39mcreate_graph,\n\u001b[1;32m    <a href='file:///NasData/home/ljh/.pyenv/versions/miniconda3-4.7.12/envs/torch_jw/lib/python3.8/site-packages/torch/_tensor.py?line=361'>362</a>\u001b[0m         inputs\u001b[39m=\u001b[39minputs)\n\u001b[0;32m--> <a href='file:///NasData/home/ljh/.pyenv/versions/miniconda3-4.7.12/envs/torch_jw/lib/python3.8/site-packages/torch/_tensor.py?line=362'>363</a>\u001b[0m torch\u001b[39m.\u001b[39;49mautograd\u001b[39m.\u001b[39;49mbackward(\u001b[39mself\u001b[39;49m, gradient, retain_graph, create_graph, inputs\u001b[39m=\u001b[39;49minputs)\n",
      "File \u001b[0;32m~/.pyenv/versions/miniconda3-4.7.12/envs/torch_jw/lib/python3.8/site-packages/torch/autograd/__init__.py:173\u001b[0m, in \u001b[0;36mbackward\u001b[0;34m(tensors, grad_tensors, retain_graph, create_graph, grad_variables, inputs)\u001b[0m\n\u001b[1;32m    <a href='file:///NasData/home/ljh/.pyenv/versions/miniconda3-4.7.12/envs/torch_jw/lib/python3.8/site-packages/torch/autograd/__init__.py?line=167'>168</a>\u001b[0m     retain_graph \u001b[39m=\u001b[39m create_graph\n\u001b[1;32m    <a href='file:///NasData/home/ljh/.pyenv/versions/miniconda3-4.7.12/envs/torch_jw/lib/python3.8/site-packages/torch/autograd/__init__.py?line=169'>170</a>\u001b[0m \u001b[39m# The reason we repeat same the comment below is that\u001b[39;00m\n\u001b[1;32m    <a href='file:///NasData/home/ljh/.pyenv/versions/miniconda3-4.7.12/envs/torch_jw/lib/python3.8/site-packages/torch/autograd/__init__.py?line=170'>171</a>\u001b[0m \u001b[39m# some Python versions print out the first line of a multi-line function\u001b[39;00m\n\u001b[1;32m    <a href='file:///NasData/home/ljh/.pyenv/versions/miniconda3-4.7.12/envs/torch_jw/lib/python3.8/site-packages/torch/autograd/__init__.py?line=171'>172</a>\u001b[0m \u001b[39m# calls in the traceback and some print out the last line\u001b[39;00m\n\u001b[0;32m--> <a href='file:///NasData/home/ljh/.pyenv/versions/miniconda3-4.7.12/envs/torch_jw/lib/python3.8/site-packages/torch/autograd/__init__.py?line=172'>173</a>\u001b[0m Variable\u001b[39m.\u001b[39;49m_execution_engine\u001b[39m.\u001b[39;49mrun_backward(  \u001b[39m# Calls into the C++ engine to run the backward pass\u001b[39;49;00m\n\u001b[1;32m    <a href='file:///NasData/home/ljh/.pyenv/versions/miniconda3-4.7.12/envs/torch_jw/lib/python3.8/site-packages/torch/autograd/__init__.py?line=173'>174</a>\u001b[0m     tensors, grad_tensors_, retain_graph, create_graph, inputs,\n\u001b[1;32m    <a href='file:///NasData/home/ljh/.pyenv/versions/miniconda3-4.7.12/envs/torch_jw/lib/python3.8/site-packages/torch/autograd/__init__.py?line=174'>175</a>\u001b[0m     allow_unreachable\u001b[39m=\u001b[39;49m\u001b[39mTrue\u001b[39;49;00m, accumulate_grad\u001b[39m=\u001b[39;49m\u001b[39mTrue\u001b[39;49;00m)\n",
      "\u001b[0;31mKeyboardInterrupt\u001b[0m: "
     ]
    }
   ],
   "source": [
    "for epoch in range(epoch, n_epochs):\n",
    "    for i, (imgs, _) in enumerate(train_loader):\n",
    "            \n",
    "        # Configure input\n",
    "        real_imgs = imgs.to(device)\n",
    "\n",
    "        # ------------------\n",
    "        #  Train Generators\n",
    "        # ------------------\n",
    "        G_optimizer.zero_grad()\n",
    "        \n",
    "        G_loss = generator_loss(generator) \n",
    "        G_loss.backward()\n",
    "        G_optimizer.step()\n",
    "    \n",
    "        # ---------------------\n",
    "        #  Train Discriminator\n",
    "        # ---------------------\n",
    "        D_optimizer.zero_grad()\n",
    "\n",
    "        D_loss = discriminator_loss(discriminator, real_imgs)\n",
    "        D_loss.backward()\n",
    "        D_optimizer.step()\n",
    "        \n",
    "        if i % 100 == 0:\n",
    "            sys.stdout.write(\n",
    "                \"[Epoch %d/%d] [Batch %d/%d] [D loss: %f] [G loss: %f]\\n\"\n",
    "                % (epoch, n_epochs, i, len(train_loader), D_loss.item(), G_loss.item())\n",
    "            )\n",
    "            \n",
    "            \n",
    "    # If at sample interval save image\n",
    "    if epoch % sample_interval == 0:\n",
    "        with torch.no_grad():\n",
    "            test_z = torch.randn(100, z_dim).to(device)\n",
    "            generated = generator(test_z)\n",
    "\n",
    "            save_image(generated, './samples/sample_' + str(epoch) + '.png', nrow=10)"
   ]
  },
  {
   "cell_type": "markdown",
   "metadata": {},
   "source": [
    "### Evaluate Generator's fake Image"
   ]
  },
  {
   "cell_type": "code",
   "execution_count": 18,
   "metadata": {},
   "outputs": [],
   "source": [
    "with torch.no_grad():\n",
    "    test_z = Variable(torch.randn(100, z_dim, requires_grad=False)).to(device)\n",
    "    generated = generator(test_z)\n",
    "    save_image(generated, './samples/sample.png', nrow=10)"
   ]
  },
  {
   "cell_type": "code",
   "execution_count": 19,
   "metadata": {},
   "outputs": [
    {
     "data": {
      "image/png": "[encoded data removed]",
      "text/plain": [
       "<PIL.PngImagePlugin.PngImageFile image mode=RGB size=342x342 at 0x7F9FB7A0E040>"
      ]
     },
     "execution_count": 19,
     "metadata": {},
     "output_type": "execute_result"
    }
   ],
   "source": [
    "from PIL import Image\n",
    "\n",
    "Image.open('./samples/sample.png')"
   ]
  },
  {
   "cell_type": "code",
   "execution_count": null,
   "metadata": {},
   "outputs": [],
   "source": []
  }
 ],
 "metadata": {
  "interpreter": {
   "hash": "8b7cf6e80e623f85c56d216babce9b5de4444425dbe69cd039cfb78c0f4a6265"
  },
  "kernelspec": {
   "display_name": "Python 3.8.13 ('torch_jw')",
   "language": "python",
   "name": "python3"
  },
  "language_info": {
   "codemirror_mode": {
    "name": "ipython",
    "version": 3
   },
   "file_extension": ".py",
   "mimetype": "text/x-python",
   "name": "python",
   "nbconvert_exporter": "python",
   "pygments_lexer": "ipython3",
   "version": "3.8.13"
  },
  "orig_nbformat": 4
 },
 "nbformat": 4,
 "nbformat_minor": 2
}
